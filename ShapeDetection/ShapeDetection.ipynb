{
 "cells": [
  {
   "cell_type": "markdown",
   "metadata": {},
   "source": [
    "ShapeDetection\n",
    "\n",
    "Based on __[jrieke / shape-detection](https://github.com/jrieke/shape-detection/blob/master/single-rectangle.ipynb)__"
   ]
  },
  {
   "cell_type": "code",
   "execution_count": 1,
   "metadata": {},
   "outputs": [],
   "source": [
    "import numpy as np\n",
    "\n",
    "img_size = 8\n",
    "min_object_size = 1\n",
    "max_object_size = 4\n",
    "\n",
    "def make_image(img):\n",
    "    if np.random.rand(1) <= 0.2:\n",
    "        exists = 0.0\n",
    "        bbox = [0.0, 0.0, 0.0, 0.0]\n",
    "    else:\n",
    "        exists = 1.0\n",
    "        w, h = np.random.randint(min_object_size, max_object_size, size=2)\n",
    "        x = np.random.randint(0, img_size - w)\n",
    "        y = np.random.randint(0, img_size - h)\n",
    "        img[x:x+w, y:y+h] = 1.  # set rectangle to 1\n",
    "        bbox = [x, y, w, h]\n",
    "    return (exists, bbox)"
   ]
  },
  {
   "cell_type": "code",
   "execution_count": 2,
   "metadata": {},
   "outputs": [],
   "source": [
    "# Create images with random rectangles and bounding boxes. \n",
    "num_imgs = 50000\n",
    "\n",
    "imgs = np.zeros((num_imgs, img_size, img_size))  # set background to 0\n",
    "exists = np.zeros((num_imgs, 1))\n",
    "bboxes = np.zeros((num_imgs, 4))   # x, y, w, h\n",
    "\n",
    "for i_img in range(num_imgs):\n",
    "    exists[i_img], bboxes[i_img] = make_image(imgs[i_img])\n",
    "    \n",
    "# print(imgs[0])\n",
    "# print(exists[0])\n",
    "# print(bboxes[0])"
   ]
  },
  {
   "cell_type": "code",
   "execution_count": 3,
   "metadata": {},
   "outputs": [
    {
     "data": {
      "text/plain": [
       "(50000, 64)"
      ]
     },
     "execution_count": 3,
     "metadata": {},
     "output_type": "execute_result"
    }
   ],
   "source": [
    "# Reshape to match the input shape of the neural network.\n",
    "X = imgs.reshape(num_imgs, -1)\n",
    "X.shape"
   ]
  },
  {
   "cell_type": "code",
   "execution_count": 4,
   "metadata": {},
   "outputs": [],
   "source": [
    "def split_train_test(data):\n",
    "    i = int(0.8 * num_imgs)\n",
    "    train_data = data[ :i ]\n",
    "    test_data = data[ i: ]\n",
    "    return (train_data, test_data)"
   ]
  },
  {
   "cell_type": "code",
   "execution_count": 5,
   "metadata": {},
   "outputs": [],
   "source": [
    "# Split training and test.\n",
    "train_X, test_X = split_train_test(X)\n",
    "train_y_exists, test_y_exists = split_train_test(exists)\n",
    "train_y_bboxes, test_y_bboxes = split_train_test(bboxes)\n",
    "train_imgs, test_imgs = split_train_test(imgs)"
   ]
  },
  {
   "cell_type": "code",
   "execution_count": 6,
   "metadata": {},
   "outputs": [
    {
     "name": "stderr",
     "output_type": "stream",
     "text": [
      "Using TensorFlow backend.\n"
     ]
    }
   ],
   "source": [
    "from keras.losses import binary_crossentropy, mean_absolute_error\n",
    "import tensorflow as tf\n",
    "\n",
    "y_loss_true_exists = None\n",
    "    \n",
    "def exists_loss(y_true, y_pred):\n",
    "    global y_loss_true_exists\n",
    "    y_loss_true_exists = y_true[ : , 0]\n",
    "    return binary_crossentropy(y_true, y_pred)\n",
    "\n",
    "def bboxes_loss(y_true, y_pred):\n",
    "    global y_loss_true_exists\n",
    "    return y_loss_true_exists * mean_absolute_error(y_true, y_pred)"
   ]
  },
  {
   "cell_type": "code",
   "execution_count": 7,
   "metadata": {},
   "outputs": [],
   "source": [
    "from keras.metrics import binary_accuracy\n",
    "\n",
    "y_acc_true_exists = None\n",
    "y_acc_pred_exists = None\n",
    "\n",
    "def exists_acc(y_true, y_pred):\n",
    "    global y_acc_true_exists, y_acc_pred_exists\n",
    "    y_acc_true_exists = y_true[ : , 0]\n",
    "    y_acc_pred_exists = y_pred[ : , 0]\n",
    "    return binary_accuracy(y_true, y_pred)\n",
    "\n",
    "def bboxes_acc_iou(y_true, y_pred):\n",
    "    x1, y1, w1, h1 = y_true[ : , 0], y_true[ : , 1], y_true[ : , 2], y_true[ : , 3] \n",
    "    x2, y2, w2, h2 = y_pred[ : , 0], y_pred[ : , 1], y_pred[ : , 2], y_pred[ : , 3]\n",
    "    zeros = tf.zeros_like(x1)\n",
    "    \n",
    "    w_I =  tf.maximum(zeros, tf.minimum(x1 + w1, x2 + w2) - tf.maximum(x1, x2))\n",
    "    h_I =  tf.maximum(zeros, tf.minimum(y1 + h1, y2 + h2) - tf.maximum(y1, y2))\n",
    "\n",
    "    I = w_I * h_I\n",
    "    U = w1 * h1 + w2 * h2 - I\n",
    "    return I / U\n",
    "\n",
    "def bboxes_acc(y_true, y_pred):\n",
    "    global y_acc_true_exists, y_acc_pred_exists\n",
    "\n",
    "    zeros = tf.zeros_like(y_acc_true_exists)\n",
    "    ones = tf.ones_like(y_acc_true_exists)\n",
    "\n",
    "    both_not_exists = tf.logical_and(\n",
    "        tf.less(y_acc_true_exists, 0.5), tf.less(y_acc_pred_exists, 0.5))\n",
    "    acc_1 = tf.where(both_not_exists, ones, zeros)\n",
    "\n",
    "    both_exists = tf.logical_and(\n",
    "        tf.greater_equal(y_acc_true_exists, 0.5), tf.greater_equal(y_acc_pred_exists, 0.5))\n",
    "    acc_2 = tf.where(both_exists, bboxes_acc_iou(y_true, y_pred), acc_1)\n",
    "    \n",
    "    return acc_2"
   ]
  },
  {
   "cell_type": "markdown",
   "metadata": {},
   "source": [
    "1 つ目の Dense\n",
    "  - 入力が 64\n",
    "  - ニューロンが 200\n",
    "  - ウエイトの数は 64 x 200 = 12,800、バイアスが 200、パラメータ数の合計は 12,800 + 200 = 13,000。\n",
    "\n",
    "2 つ目の Dense\n",
    "  - 入力が 200\n",
    "  - ニューロンが 5\n",
    "  - ウエイトの数は 200 x 5 = 1,000、バイアスが 5、パラメータ数の合計は 1,000 + 5 = 1,005。"
   ]
  },
  {
   "cell_type": "code",
   "execution_count": 8,
   "metadata": {},
   "outputs": [
    {
     "name": "stderr",
     "output_type": "stream",
     "text": [
      "WARNING: Logging before flag parsing goes to stderr.\n",
      "W1012 13:47:40.915672  8104 deprecation_wrapper.py:119] From C:\\Users\\tsuda\\Anaconda3\\lib\\site-packages\\keras\\backend\\tensorflow_backend.py:517: The name tf.placeholder is deprecated. Please use tf.compat.v1.placeholder instead.\n",
      "\n",
      "W1012 13:47:40.958557  8104 deprecation_wrapper.py:119] From C:\\Users\\tsuda\\Anaconda3\\lib\\site-packages\\keras\\backend\\tensorflow_backend.py:4138: The name tf.random_uniform is deprecated. Please use tf.random.uniform instead.\n",
      "\n",
      "W1012 13:47:41.006440  8104 deprecation_wrapper.py:119] From C:\\Users\\tsuda\\Anaconda3\\lib\\site-packages\\keras\\backend\\tensorflow_backend.py:131: The name tf.get_default_graph is deprecated. Please use tf.compat.v1.get_default_graph instead.\n",
      "\n",
      "W1012 13:47:41.008425  8104 deprecation_wrapper.py:119] From C:\\Users\\tsuda\\Anaconda3\\lib\\site-packages\\keras\\backend\\tensorflow_backend.py:133: The name tf.placeholder_with_default is deprecated. Please use tf.compat.v1.placeholder_with_default instead.\n",
      "\n",
      "W1012 13:47:41.026376  8104 deprecation.py:506] From C:\\Users\\tsuda\\Anaconda3\\lib\\site-packages\\keras\\backend\\tensorflow_backend.py:3445: calling dropout (from tensorflow.python.ops.nn_ops) with keep_prob is deprecated and will be removed in a future version.\n",
      "Instructions for updating:\n",
      "Please use `rate` instead of `keep_prob`. Rate should be set to `rate = 1 - keep_prob`.\n",
      "W1012 13:47:41.119127  8104 deprecation_wrapper.py:119] From C:\\Users\\tsuda\\Anaconda3\\lib\\site-packages\\keras\\optimizers.py:790: The name tf.train.Optimizer is deprecated. Please use tf.compat.v1.train.Optimizer instead.\n",
      "\n",
      "W1012 13:47:41.167001  8104 deprecation_wrapper.py:119] From C:\\Users\\tsuda\\Anaconda3\\lib\\site-packages\\keras\\backend\\tensorflow_backend.py:3376: The name tf.log is deprecated. Please use tf.math.log instead.\n",
      "\n",
      "W1012 13:47:41.178968  8104 deprecation.py:323] From C:\\Users\\tsuda\\Anaconda3\\lib\\site-packages\\tensorflow\\python\\ops\\nn_impl.py:180: add_dispatch_support.<locals>.wrapper (from tensorflow.python.ops.array_ops) is deprecated and will be removed in a future version.\n",
      "Instructions for updating:\n",
      "Use tf.where in 2.0, which has the same broadcast rule as np.where\n"
     ]
    },
    {
     "name": "stdout",
     "output_type": "stream",
     "text": [
      "__________________________________________________________________________________________________\n",
      "Layer (type)                    Output Shape         Param #     Connected to                     \n",
      "==================================================================================================\n",
      "Input (InputLayer)              (None, 64)           0                                            \n",
      "__________________________________________________________________________________________________\n",
      "Dense_1 (Dense)                 (None, 200)          13000       Input[0][0]                      \n",
      "__________________________________________________________________________________________________\n",
      "Dropout_1 (Dropout)             (None, 200)          0           Dense_1[0][0]                    \n",
      "__________________________________________________________________________________________________\n",
      "exists (Dense)                  (None, 1)            201         Dropout_1[0][0]                  \n",
      "__________________________________________________________________________________________________\n",
      "bbox (Dense)                    (None, 4)            804         Dropout_1[0][0]                  \n",
      "==================================================================================================\n",
      "Total params: 14,005\n",
      "Trainable params: 14,005\n",
      "Non-trainable params: 0\n",
      "__________________________________________________________________________________________________\n"
     ]
    }
   ],
   "source": [
    "# Build the model.\n",
    "from keras.models import Model\n",
    "from keras.layers import Input, Dense, Dropout\n",
    "# from keras.optimizers import SGD\n",
    "\n",
    "inputs = Input(shape=(X.shape[-1], ), name='Input')\n",
    "x = Dense(200, activation='relu', name='Dense_1')(inputs)\n",
    "x = Dropout(0.2, name='Dropout_1')(x)\n",
    "exists = Dense(1, activation='sigmoid', name='exists')(x)\n",
    "bbox = Dense(4, activation='linear', name='bbox')(x)\n",
    "\n",
    "model = Model(inputs=inputs, outputs=[exists, bbox])\n",
    "model.compile(\n",
    "    'adadelta', \n",
    "    loss={'exists': exists_loss, 'bbox': bboxes_loss},\n",
    "    metrics={'exists': exists_acc, 'bbox': bboxes_acc})\n",
    "    # loss={'exists': 'binary_crossentropy', 'bbox': 'mean_absolute_error'})\n",
    "model.summary()"
   ]
  },
  {
   "cell_type": "code",
   "execution_count": 9,
   "metadata": {},
   "outputs": [
    {
     "name": "stdout",
     "output_type": "stream",
     "text": [
      "Train on 40000 samples, validate on 10000 samples\n",
      "Epoch 1/10\n",
      " - 5s - loss: 0.4422 - exists_loss: 0.0758 - bbox_loss: 0.3664 - exists_exists_acc: 0.9781 - bbox_bboxes_acc: 0.4943 - val_loss: 0.1299 - val_exists_loss: 0.0074 - val_bbox_loss: 0.1226 - val_exists_exists_acc: 1.0000 - val_bbox_bboxes_acc: 0.7353\n",
      "Epoch 2/10\n",
      " - 4s - loss: 0.1742 - exists_loss: 0.0043 - bbox_loss: 0.1698 - exists_exists_acc: 1.0000 - bbox_bboxes_acc: 0.6511 - val_loss: 0.0844 - val_exists_loss: 0.0020 - val_bbox_loss: 0.0824 - val_exists_exists_acc: 1.0000 - val_bbox_bboxes_acc: 0.7805\n",
      "Epoch 3/10\n",
      " - 4s - loss: 0.1456 - exists_loss: 0.0018 - bbox_loss: 0.1439 - exists_exists_acc: 1.0000 - bbox_bboxes_acc: 0.6822 - val_loss: 0.0670 - val_exists_loss: 0.0011 - val_bbox_loss: 0.0659 - val_exists_exists_acc: 1.0000 - val_bbox_bboxes_acc: 0.8327\n",
      "Epoch 4/10\n",
      " - 4s - loss: 0.1351 - exists_loss: 0.0011 - bbox_loss: 0.1340 - exists_exists_acc: 1.0000 - bbox_bboxes_acc: 0.6961 - val_loss: 0.0561 - val_exists_loss: 7.5414e-04 - val_bbox_loss: 0.0554 - val_exists_exists_acc: 1.0000 - val_bbox_bboxes_acc: 0.8400\n",
      "Epoch 5/10\n",
      " - 4s - loss: 0.1285 - exists_loss: 8.6768e-04 - bbox_loss: 0.1277 - exists_exists_acc: 1.0000 - bbox_bboxes_acc: 0.7063 - val_loss: 0.0503 - val_exists_loss: 6.0963e-04 - val_bbox_loss: 0.0497 - val_exists_exists_acc: 1.0000 - val_bbox_bboxes_acc: 0.8559\n",
      "Epoch 6/10\n",
      " - 4s - loss: 0.1247 - exists_loss: 7.5899e-04 - bbox_loss: 0.1239 - exists_exists_acc: 1.0000 - bbox_bboxes_acc: 0.7125 - val_loss: 0.0462 - val_exists_loss: 5.2756e-04 - val_bbox_loss: 0.0457 - val_exists_exists_acc: 1.0000 - val_bbox_bboxes_acc: 0.8720\n",
      "Epoch 7/10\n",
      " - 4s - loss: 0.1216 - exists_loss: 7.0288e-04 - bbox_loss: 0.1209 - exists_exists_acc: 1.0000 - bbox_bboxes_acc: 0.7182 - val_loss: 0.0498 - val_exists_loss: 4.6046e-04 - val_bbox_loss: 0.0494 - val_exists_exists_acc: 1.0000 - val_bbox_bboxes_acc: 0.8557\n",
      "Epoch 8/10\n",
      " - 4s - loss: 0.1188 - exists_loss: 6.2528e-04 - bbox_loss: 0.1182 - exists_exists_acc: 1.0000 - bbox_bboxes_acc: 0.7226 - val_loss: 0.0453 - val_exists_loss: 4.1255e-04 - val_bbox_loss: 0.0449 - val_exists_exists_acc: 1.0000 - val_bbox_bboxes_acc: 0.8672\n",
      "Epoch 9/10\n",
      " - 3s - loss: 0.1172 - exists_loss: 5.7136e-04 - bbox_loss: 0.1166 - exists_exists_acc: 1.0000 - bbox_bboxes_acc: 0.7258 - val_loss: 0.0426 - val_exists_loss: 3.8134e-04 - val_bbox_loss: 0.0422 - val_exists_exists_acc: 1.0000 - val_bbox_bboxes_acc: 0.8813\n",
      "Epoch 10/10\n",
      " - 4s - loss: 0.1156 - exists_loss: 5.5620e-04 - bbox_loss: 0.1151 - exists_exists_acc: 1.0000 - bbox_bboxes_acc: 0.7294 - val_loss: 0.0444 - val_exists_loss: 3.6136e-04 - val_bbox_loss: 0.0441 - val_exists_exists_acc: 1.0000 - val_bbox_bboxes_acc: 0.8819\n"
     ]
    },
    {
     "data": {
      "text/plain": [
       "<keras.callbacks.History at 0x1884a227ac8>"
      ]
     },
     "execution_count": 9,
     "metadata": {},
     "output_type": "execute_result"
    }
   ],
   "source": [
    "# Train.\n",
    "model.fit(\n",
    "    train_X, [train_y_exists, train_y_bboxes], epochs=10,\n",
    "    validation_data=(test_X, [test_y_exists, test_y_bboxes]), verbose=2)"
   ]
  },
  {
   "cell_type": "code",
   "execution_count": 10,
   "metadata": {},
   "outputs": [],
   "source": [
    "# Predict bounding boxes existance and the location on the test images.\n",
    "pred_exists, pred_bboxes = model.predict(test_X)"
   ]
  },
  {
   "cell_type": "code",
   "execution_count": 11,
   "metadata": {},
   "outputs": [],
   "source": [
    "def IOU(exists1, exists2, bbox1, bbox2):\n",
    "    '''\n",
    "    Calculate overlap between two bounding boxes [x, y, w, h]\n",
    "    as the area of intersection over the area of unity\n",
    "    '''\n",
    "    if 0.5 <= exists1 and 0.5 <= exists2:\n",
    "        x1, y1, w1, h1 = bbox1[0], bbox1[1], bbox1[2], bbox1[3]\n",
    "        x2, y2, w2, h2 = bbox2[0], bbox2[1], bbox2[2], bbox2[3]\n",
    "\n",
    "        w_I = max(0.0, min(x1 + w1, x2 + w2) - max(x1, x2))\n",
    "        h_I = max(0.0, min(y1 + h1, y2 + h2) - max(y1, y2))\n",
    "\n",
    "        I = w_I * h_I\n",
    "        U = w1 * h1 + w2 * h2 - I\n",
    "\n",
    "        return I / U\n",
    "    else:\n",
    "        if exists1 < 0.5 and exists2 < 0.5:\n",
    "            return 1.0\n",
    "        else:\n",
    "            return 0.0"
   ]
  },
  {
   "cell_type": "code",
   "execution_count": 12,
   "metadata": {},
   "outputs": [
    {
     "data": {
      "image/png": "[encoded data removed]",
      "text/plain": [
       "<Figure size 864x216 with 4 Axes>"
      ]
     },
     "metadata": {
      "needs_background": "light"
     },
     "output_type": "display_data"
    }
   ],
   "source": [
    "import matplotlib.pyplot as plt\n",
    "import matplotlib\n",
    "%matplotlib inline\n",
    "\n",
    "# Show a few images and predicted bounding boxes from the test dataset. \n",
    "plt.figure(figsize=(12, 3))\n",
    "for i_subplot in range(1, 5):\n",
    "    plt.subplot(1, 4, i_subplot)\n",
    "    i = np.random.randint(len(test_imgs))\n",
    "    plt.imshow(\n",
    "        test_imgs[i].T, cmap='Greys', interpolation='none',\n",
    "        origin='lower', extent=[0, img_size, 0, img_size])\n",
    "    pred_bbox, test_bbox, pred_exist, test_exist = \\\n",
    "            pred_bboxes[i], test_y_bboxes[i], pred_exists[i], test_y_exists[i]\n",
    "    plt.gca().add_patch(matplotlib.patches.Rectangle(\n",
    "        (pred_bbox[0], pred_bbox[1]),\n",
    "        pred_bbox[2], pred_bbox[3], ec='r', fc='none'))\n",
    "    iou = IOU(pred_exist, test_exist, pred_bbox, test_bbox)\n",
    "    plt.annotate(\n",
    "        'IOU: {:.2f}'.format(iou),\n",
    "        (max(0.0, pred_bbox[0]), pred_bbox[1]+pred_bbox[3]+0.2), color='r')\n",
    "\n",
    "plt.show()\n",
    "# plt.savefig('plots/bw-single-rectangle_prediction.png', dpi=300)"
   ]
  },
  {
   "cell_type": "code",
   "execution_count": 13,
   "metadata": {},
   "outputs": [
    {
     "name": "stdout",
     "output_type": "stream",
     "text": [
      "Mean IOU: 0.882\n"
     ]
    }
   ],
   "source": [
    "# Calculate the mean IOU (overlap) between the predicted and expected\n",
    "# bounding boxes on the test dataset. \n",
    "summed_IOU = 0.\n",
    "for pred_bbox, test_bbox, pred_exist, test_exist in \\\n",
    "        zip(pred_bboxes, test_y_bboxes, pred_exists, test_y_exists):\n",
    "    summed_IOU += IOU(pred_exist, test_exist, pred_bbox, test_bbox)\n",
    "mean_IOU = summed_IOU / len(pred_bboxes)\n",
    "print(\"Mean IOU: {0:.3f}\".format(mean_IOU))"
   ]
  }
 ],
 "metadata": {
  "kernelspec": {
   "display_name": "Python 3",
   "language": "python",
   "name": "python3"
  },
  "language_info": {
   "codemirror_mode": {
    "name": "ipython",
    "version": 3
   },
   "file_extension": ".py",
   "mimetype": "text/x-python",
   "name": "python",
   "nbconvert_exporter": "python",
   "pygments_lexer": "ipython3",
   "version": "3.6.9"
  }
 },
 "nbformat": 4,
 "nbformat_minor": 2
}
